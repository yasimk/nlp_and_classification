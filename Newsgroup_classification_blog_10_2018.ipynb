{
 "cells": [
  {
   "cell_type": "code",
   "execution_count": 77,
   "metadata": {},
   "outputs": [],
   "source": [
    "import pandas as pd\n",
    "import numpy as np\n",
    "import seaborn as sns\n",
    "from time import time\n",
    "\n",
    "import matplotlib.pyplot as plt\n",
    "from sklearn.datasets import fetch_20newsgroups\n",
    "from sklearn.pipeline import Pipeline\n",
    "from sklearn.feature_extraction.text import TfidfVectorizer \n",
    "from sklearn.naive_bayes import MultinomialNB\n",
    "from sklearn.linear_model import SGDClassifier\n",
    "from sklearn.svm import LinearSVC\n",
    "from sklearn import metrics"
   ]
  },
  {
   "cell_type": "markdown",
   "metadata": {},
   "source": [
    "#### About 20_newsgroups data set\n",
    "The returned dataset after fetch_20newsgroups function is a scikit-learn “bunch”: a simple holder object with fields that can be both accessed as python dict keys or object attributes for convenience, for instance the target_names holds the list of the requested category names:"
   ]
  },
  {
   "cell_type": "code",
   "execution_count": 78,
   "metadata": {},
   "outputs": [],
   "source": [
    "categories = ['alt.atheism', 'comp.graphics', 'sci.med', 'soc.religion.christian']\n",
    "train_20_newsgroups = fetch_20newsgroups(subset='train', shuffle=True, categories = categories, random_state = 21)"
   ]
  },
  {
   "cell_type": "markdown",
   "metadata": {},
   "source": [
    "The files are loaded in memory in the data attribute. "
   ]
  },
  {
   "cell_type": "code",
   "execution_count": 79,
   "metadata": {},
   "outputs": [
    {
     "name": "stdout",
     "output_type": "stream",
     "text": [
      "The following newsgroups will be trained ['alt.atheism', 'comp.graphics', 'sci.med', 'soc.religion.christian']\n",
      "The no of sentences 2257\n"
     ]
    }
   ],
   "source": [
    "print('The following newsgroups will be trained', train_20_newsgroups.target_names)\n",
    "print('The no of sentences', len(train_20_newsgroups.data))"
   ]
  },
  {
   "cell_type": "markdown",
   "metadata": {},
   "source": [
    "Printing the first loaded file and first line of the file. For speed and space efficiency reasons scikit-learn loads the target attribute as an array of integers that corresponds to the index of the category name in the target_names list. The category integer id of each sample is stored in the target attribute:"
   ]
  },
  {
   "cell_type": "code",
   "execution_count": 80,
   "metadata": {},
   "outputs": [
    {
     "name": "stdout",
     "output_type": "stream",
     "text": [
      "From: ederveen@athena.research.ptt.nl (Ederveen D.)\n",
      "Subject: Micro World Data Bank II ?\n",
      "Nntp-Posting-Host: athena.research.ptt.nl\n",
      "File name:  comp.graphics\n"
     ]
    }
   ],
   "source": [
    "print(\"\\n\".join(train_20_newsgroups.data[0].split(\"\\n\")[:3]))\n",
    "print('File name: ', train_20_newsgroups.target_names[train_20_newsgroups.target[0]])"
   ]
  },
  {
   "cell_type": "markdown",
   "metadata": {},
   "source": [
    "#### Create test data set"
   ]
  },
  {
   "cell_type": "code",
   "execution_count": 10,
   "metadata": {},
   "outputs": [
    {
     "name": "stdout",
     "output_type": "stream",
     "text": [
      "Keys:  dict_keys(['data', 'filenames', 'target_names', 'target', 'DESCR']) \n",
      "Target Names:  ['alt.atheism', 'comp.graphics', 'sci.med', 'soc.religion.christian']\n"
     ]
    }
   ],
   "source": [
    "test_20_newsgroups = fetch_20newsgroups(subset = 'test', shuffle = True, categories = categories, random_state = 21)\n",
    "docs_test_20_newsgroups = test_20_newsgroups.data\n",
    "print('Keys: ',test_20_newsgroups.keys(),  '\\nTarget Names: ',test_20_newsgroups.target_names)\n",
    "#test_20_newsgroups.target_names"
   ]
  },
  {
   "cell_type": "markdown",
   "metadata": {},
   "source": [
    "#### Building a pipeline and training using Multinomial NB"
   ]
  },
  {
   "cell_type": "code",
   "execution_count": 84,
   "metadata": {},
   "outputs": [
    {
     "name": "stdout",
     "output_type": "stream",
     "text": [
      "Time taken to execute NB Classifier:  1.04 secs\n",
      "NB Prediction Accuracy-  83.49\n"
     ]
    }
   ],
   "source": [
    "t0 = time()\n",
    "nb_clf = Pipeline([('vect', TfidfVectorizer()),\n",
    "                  ('clf', MultinomialNB())\n",
    "                 ])\n",
    "nb_clf.fit(train_20_newsgroups.data, train_20_newsgroups.target)\n",
    "nb_predict_time = round((time() -t0),2)\n",
    "print('Time taken to execute NB Classifier: ',nb_predict_time,'secs')\n",
    "nb_predict = nb_clf.predict(test_20_newsgroups.data)\n",
    "nb_predict_acc = round(np.mean(nb_predict == test_20_newsgroups.target) * 100, 2)\n",
    "print('NB Prediction Accuracy- ',nb_predict_acc)"
   ]
  },
  {
   "cell_type": "markdown",
   "metadata": {},
   "source": [
    "#### Evaluate the performance of test data using Naive Bayes"
   ]
  },
  {
   "cell_type": "code",
   "execution_count": 16,
   "metadata": {},
   "outputs": [
    {
     "data": {
      "image/png": "[encoded data removed]",
      "text/plain": [
       "<Figure size 720x720 with 2 Axes>"
      ]
     },
     "metadata": {
      "needs_background": "light"
     },
     "output_type": "display_data"
    }
   ],
   "source": [
    "nb_conf_mat = metrics.confusion_matrix(test_20_newsgroups.target, nb_predict)\n",
    "fig, ax = plt.subplots(figsize=(10,10))\n",
    "sns.heatmap(nb_conf_mat, annot=True, fmt='d', cmap=sns.diverging_palette(220,10, as_cmap=True),\n",
    "            xticklabels = test_20_newsgroups.target_names, yticklabels = test_20_newsgroups.target_names)\n",
    "plt.ylabel('Actual')\n",
    "plt.xlabel('Predicted')\n",
    "plt.title('Naive Bayes Confusion Matrix')\n",
    "plt.show()"
   ]
  },
  {
   "cell_type": "code",
   "execution_count": 124,
   "metadata": {},
   "outputs": [
    {
     "name": "stdout",
     "output_type": "stream",
     "text": [
      "Test prediction:  [3 0 3 2]\n",
      "'God is love' => soc.religion.christian\n",
      "'Are you crazy:' => alt.atheism\n",
      "'Love is eternal' => soc.religion.christian\n",
      "'Machine Learning w/ computer is the way to go' => sci.med\n"
     ]
    }
   ],
   "source": [
    "### Do a prediction\n",
    "test_doc = ['God is love', 'Are you crazy:', 'Love is eternal', 'Machine Learning w/ computer is the way to go']\n",
    "test_nb_predict = nb_clf.predict(test_doc)\n",
    "print('Test prediction: ', test_nb_predict)\n",
    "\n",
    "\n",
    "for test_doc, category in zip(test_doc, test_nb_predict):\n",
    "    print('%r => %s' % (test_doc, test_20_newsgroups.target_names[category]))"
   ]
  },
  {
   "cell_type": "markdown",
   "metadata": {},
   "source": [
    "### Testing results with SGD"
   ]
  },
  {
   "cell_type": "code",
   "execution_count": 86,
   "metadata": {},
   "outputs": [
    {
     "name": "stderr",
     "output_type": "stream",
     "text": [
      "C:\\Users\\Yasim\\Anaconda3\\lib\\site-packages\\sklearn\\linear_model\\stochastic_gradient.py:130: DeprecationWarning: n_iter parameter is deprecated in 0.19 and will be removed in 0.21. Use max_iter and tol instead.\n",
      "  DeprecationWarning)\n"
     ]
    },
    {
     "name": "stdout",
     "output_type": "stream",
     "text": [
      "Time taken to execute SGD Classifier:  3.73 secs\n",
      "SGD prediction:  91.94\n"
     ]
    }
   ],
   "source": [
    "t0 = time()\n",
    "svm_clf = Pipeline([('vect', TfidfVectorizer(sublinear_tf=True , norm='l2', encoding='latin-1', ngram_range=(1, 2), stop_words='english')),\n",
    "                    ('clf', SGDClassifier(loss = 'hinge', penalty ='l2', alpha=1e-3, n_iter=5, random_state=21) )\n",
    "                   ])\n",
    "svm_clf.fit(train_20_newsgroups.data, train_20_newsgroups.target)\n",
    "print('Time taken to execute SGD Classifier: ', round((time() -t0),2),'secs')\n",
    "sgd_svm_predict = svm_clf.predict(test_20_newsgroups.data)\n",
    "sgd_svm_predict_acc = round(np.mean(sgd_svm_predict == test_20_newsgroups.target) * 100, 2)\n",
    "print('SGD prediction: ', sgd_svm_predict_acc)"
   ]
  },
  {
   "cell_type": "code",
   "execution_count": 87,
   "metadata": {},
   "outputs": [
    {
     "data": {
      "image/png": "[encoded data removed]",
      "text/plain": [
       "<Figure size 720x720 with 2 Axes>"
      ]
     },
     "metadata": {
      "needs_background": "light"
     },
     "output_type": "display_data"
    }
   ],
   "source": [
    "svm_conf_mat = metrics.confusion_matrix(test_20_newsgroups.target, sgd_svm_predict)\n",
    "fig, ax = plt.subplots(figsize=(10,10))\n",
    "sns.heatmap(svm_conf_mat, annot=True, fmt='d', cmap = sns.diverging_palette(220,10, as_cmap=True),\n",
    "            xticklabels=test_20_newsgroups.target_names , yticklabels= test_20_newsgroups.target_names)\n",
    "plt.ylabel('Actual')\n",
    "plt.xlabel('Predicted')\n",
    "plt.title('SGDClassifier: Confusion Matrix')\n",
    "plt.show()"
   ]
  },
  {
   "cell_type": "markdown",
   "metadata": {},
   "source": [
    "###  Testing results with LinearSVC (Most preferred classifier based on results)"
   ]
  },
  {
   "cell_type": "code",
   "execution_count": 88,
   "metadata": {},
   "outputs": [
    {
     "name": "stdout",
     "output_type": "stream",
     "text": [
      "LinearSVC with L1/2 based feature selection\n",
      "Time taken to execute LinearSVC:  5.83 secs\n",
      "Linear SVC Prediction Accuracy:  93.14\n"
     ]
    }
   ],
   "source": [
    "print(\"LinearSVC with L1/2 based feature selection\")\n",
    "# The more regularization, the more sparsity.\n",
    "t0 = time()\n",
    "lsvc_clf = Pipeline([('vect', TfidfVectorizer(sublinear_tf=True , norm='l2', encoding='latin-1', ngram_range=(1, 2), stop_words='english')),\n",
    "                     ('clf', LinearSVC(penalty = 'l2', dual = False, multi_class='ovr', tol=0.0001, random_state=21))\n",
    "                    ])\n",
    "lsvc_clf.fit(train_20_newsgroups.data, train_20_newsgroups.target)\n",
    "lsvc_predict_time = round((time() -t0),2)\n",
    "print('Time taken to execute LinearSVC: ', lsvc_predict_time,'secs')\n",
    "lsvc_predict = lsvc_clf.predict(test_20_newsgroups.data)\n",
    "lsvc_predict_acc = round(np.mean(lsvc_predict == test_20_newsgroups.target) * 100, 2)\n",
    "print('Linear SVC Prediction Accuracy: ',lsvc_predict_acc)"
   ]
  },
  {
   "cell_type": "code",
   "execution_count": 89,
   "metadata": {},
   "outputs": [
    {
     "data": {
      "image/png": "[encoded data removed]",
      "text/plain": [
       "<Figure size 720x720 with 2 Axes>"
      ]
     },
     "metadata": {
      "needs_background": "light"
     },
     "output_type": "display_data"
    }
   ],
   "source": [
    "lsvc_conf_mat = metrics.confusion_matrix(test_20_newsgroups.target, lsvc_predict)\n",
    "fig, ax = plt.subplots(figsize=(10,10))\n",
    "sns.heatmap(lsvc_conf_mat, annot=True, fmt='d', cmap = sns.diverging_palette(220,10, as_cmap=True),\n",
    "            xticklabels=test_20_newsgroups.target_names , yticklabels= test_20_newsgroups.target_names)\n",
    "plt.ylabel('Actual')\n",
    "plt.xlabel('Predicted')\n",
    "plt.title('Linear SVC Confusion Matrix')\n",
    "plt.show()"
   ]
  },
  {
   "cell_type": "code",
   "execution_count": 29,
   "metadata": {},
   "outputs": [
    {
     "name": "stdout",
     "output_type": "stream",
     "text": [
      "From: nagle@netcom.com (John Nagle)\n",
      "Subject: Re: Point in Polygon routine needed\n",
      "Organization: NETCOM On-line Communication Services (408 241-9760 guest)\n",
      "Lines: 18\n",
      "\n",
      "Andrew Lewis Tepper <at15+@andrew.cmu.edu> writes:\n",
      ">I don't know if this routine is \"standard\", I just came up with it recently:\n",
      ">For a polygon of points p1...pn, and a point P, make a table as follows:\n",
      ">T(1)= angle from p1 to P to p2\n",
      ">T(2)= angle from p2 to P to p3\n",
      ">...\n",
      ">T(n)= angle from pn to P to p1\n",
      ">express all angles as: -PI < angle < PI.\n",
      ">Add all entries in the table. If the sum = 0, the point is outside. If\n",
      ">the sum is +/- PI, the point is inside. If the point is +/- xPI, you\n",
      ">have a strange polygon. If ANY angle was = +/-PI, the point is on the\n",
      ">border.\n",
      "\n",
      "     I think it's known, but it's neat.\n",
      "\n",
      "     Can it be extended to 3D?\n",
      "\n",
      "\t\t\t\t\t\tJohn Nagle\n",
      " has been classified as  1 and should be  alt.atheism\n",
      "From: d91tm@efd.lth.se (Tomas Moeller)\n",
      "Subject: WANTED : Scott  Leatham @ Microsoft\n",
      "Organization: Lund Institute of Technology, Sweden\n",
      "Lines: 13\n",
      "\n",
      "Hello there!\n",
      "A few days ago I got a mail concerning bitmap-stretching\n",
      "from SCOTT LEATHAM @ Microsoft Redmond WA, USA.\n",
      "I really would like to answer back to him, but I have \n",
      "lost his email-address.\n",
      "So if Scott or anybody that knows his email-address\n",
      "reads this, please mail me his address so I can\n",
      "answer his mail.\n",
      "\n",
      "Please mail to : d91tm@efd.lth.se\n",
      "\n",
      "\tThanks\n",
      "\t  /Tomas\n",
      " has been classified as  1 and should be  comp.graphics\n",
      "From: ceci@lysator.liu.se (Cecilia Henningsson)\n",
      "Subject: Q: Repelling wasps?\n",
      "Summary: How do I repel wasps?\n",
      "Keywords: wasp\n",
      "Organization: Lysator ACS at Linkoping University\n",
      "Lines: 43\n",
      "\n",
      "(This is a cross post to rec.gardens and sci.med. Set the follow-up\n",
      "(line in the header, depending on what kind of advice you give, or\n",
      "(e-mail directly to me: ceci@lysator.liu.se.)\n",
      "\n",
      "I have a problem with wasps -- they seem to love me. Last summer I\n",
      "couldn't spend more than ten to fifteen minutes at a time in my garden\n",
      "before one or several wasps would come for me. I am asking for advice\n",
      "on how to repel wasps.\n",
      "\n",
      "   This year the wasps have built their nest under a stone next to one\n",
      "of my tiny ponds. The caretaker (poor fellow!) will have to take care\n",
      "of them, and that will give me a head start on them. Last year we\n",
      "couldn't find any nest. Even after the caretaker has gassed the nest\n",
      "in my tiny garden of 30 square meter, other wasps will most likely vie\n",
      "for the territory. Is there anything I can grow, rub on my skin or\n",
      "spread on the soil that will repel the black and yellow bastards?\n",
      "Never mind if it turns my skin purple or kills off all my beloved\n",
      "plants, I want to be able to spend time in my garden like everyone\n",
      "else.\n",
      "\n",
      "   Would it help to remove the ponds and the bird bath? The wasps seem\n",
      "to come to drink at them, and I suppose that their prey will breed in\n",
      "them. The black tits seem to be afraid of the wasps, because as soon\n",
      "as the wasp season starts, they stop coming to have their bath.\n",
      "\n",
      "Even when I am not trying to win back my patio from 15-20 wasps, they\n",
      "seem to love me. The advice I usually get when I ask what to do about\n",
      "wasps, is to stand still and not wave my arms. I've got some painful\n",
      "stings when trying to follow that advice. I have also tried to use\n",
      "hygienic products without perfumes, to no avail. They still love me,\n",
      "and come for me, even when I'm in the middle of a crowd. So far only\n",
      "two things seem to work: To kill it dead or to run into the house and\n",
      "close all doors and windows. \n",
      "\n",
      "NB: I don't have a problem with bees or bumble-bees, just wasps.\n",
      "    Patronizing advice redirected to /dev/null.\n",
      "\n",
      "--Ceci\n",
      "--\n",
      "=====ceci@lysator.liu.se===========================================\n",
      "\"The number of rational hypotheses that can explain any given\n",
      " phenomenon is infinite.\"\n",
      "Phaedrus' law from RM Pirsig's _Zen_and_the_Art_of_Motorcycle_Maintenance_\n",
      " has been classified as  2 and should be  sci.med\n",
      "From: gilham@csl.sri.com (Fred Gilham)\n",
      "Subject: Ontological argument\n",
      "Organization: Computer Science Lab, SRI International, Menlo Park, CA.\n",
      "Lines: 12\n",
      "\n",
      "I read somewhere that Kurt Goedel argued that the ontological argument\n",
      "for God's existence was logically reasonable (or something to that\n",
      "effect).\n",
      "\n",
      "Does anyone know if this is true, and have a citation?\n",
      "\n",
      "Thanks.\n",
      "--\n",
      "-Fred Gilham    gilham@csl.sri.com\n",
      "\"Peace is only better than war when it's not hell too.  War being hell\n",
      "makes sense.\"\n",
      "               -Walker Percy, THE SECOND COMING\n",
      " has been classified as  3 and should be  soc.religion.christian\n"
     ]
    }
   ],
   "source": [
    "for input_doc, prediction, label in zip(test_20_newsgroups.data, lsvc_predict ,test_20_newsgroups.target_names):\n",
    "    if prediction != label:\n",
    "        print(input_doc, 'has been classified as ',prediction, 'and should be ',label)"
   ]
  },
  {
   "cell_type": "code",
   "execution_count": 40,
   "metadata": {},
   "outputs": [
    {
     "data": {
      "text/html": [
       "<div>\n",
       "<style scoped>\n",
       "    .dataframe tbody tr th:only-of-type {\n",
       "        vertical-align: middle;\n",
       "    }\n",
       "\n",
       "    .dataframe tbody tr th {\n",
       "        vertical-align: top;\n",
       "    }\n",
       "\n",
       "    .dataframe thead th {\n",
       "        text-align: right;\n",
       "    }\n",
       "</style>\n",
       "<table border=\"1\" class=\"dataframe\">\n",
       "  <thead>\n",
       "    <tr style=\"text-align: right;\">\n",
       "      <th></th>\n",
       "      <th>data</th>\n",
       "      <th>filenames</th>\n",
       "      <th>target_names</th>\n",
       "      <th>target</th>\n",
       "      <th>DESCR</th>\n",
       "    </tr>\n",
       "  </thead>\n",
       "  <tbody>\n",
       "    <tr>\n",
       "      <th>0</th>\n",
       "      <td>From: nagle@netcom.com (John Nagle)\\nSubject: ...</td>\n",
       "      <td>C:\\Users\\Yasim\\scikit_learn_data\\20news_home\\2...</td>\n",
       "      <td>alt.atheism</td>\n",
       "      <td>1</td>\n",
       "      <td>.. _20newsgroups_dataset:\\n\\nThe 20 newsgroups...</td>\n",
       "    </tr>\n",
       "    <tr>\n",
       "      <th>1</th>\n",
       "      <td>From: d91tm@efd.lth.se (Tomas Moeller)\\nSubjec...</td>\n",
       "      <td>C:\\Users\\Yasim\\scikit_learn_data\\20news_home\\2...</td>\n",
       "      <td>comp.graphics</td>\n",
       "      <td>1</td>\n",
       "      <td>NaN</td>\n",
       "    </tr>\n",
       "    <tr>\n",
       "      <th>2</th>\n",
       "      <td>From: ceci@lysator.liu.se (Cecilia Henningsson...</td>\n",
       "      <td>C:\\Users\\Yasim\\scikit_learn_data\\20news_home\\2...</td>\n",
       "      <td>sci.med</td>\n",
       "      <td>2</td>\n",
       "      <td>NaN</td>\n",
       "    </tr>\n",
       "    <tr>\n",
       "      <th>3</th>\n",
       "      <td>From: gilham@csl.sri.com (Fred Gilham)\\nSubjec...</td>\n",
       "      <td>C:\\Users\\Yasim\\scikit_learn_data\\20news_home\\2...</td>\n",
       "      <td>soc.religion.christian</td>\n",
       "      <td>3</td>\n",
       "      <td>NaN</td>\n",
       "    </tr>\n",
       "    <tr>\n",
       "      <th>4</th>\n",
       "      <td>From: swf@elsegundoca.ncr.com (Stan Friesen)\\n...</td>\n",
       "      <td>C:\\Users\\Yasim\\scikit_learn_data\\20news_home\\2...</td>\n",
       "      <td>NaN</td>\n",
       "      <td>3</td>\n",
       "      <td>NaN</td>\n",
       "    </tr>\n",
       "    <tr>\n",
       "      <th>5</th>\n",
       "      <td>From: JEK@cu.nih.gov\\nSubject: Jacob and Esau\\...</td>\n",
       "      <td>C:\\Users\\Yasim\\scikit_learn_data\\20news_home\\2...</td>\n",
       "      <td>NaN</td>\n",
       "      <td>3</td>\n",
       "      <td>NaN</td>\n",
       "    </tr>\n",
       "    <tr>\n",
       "      <th>6</th>\n",
       "      <td>From: tgk@cs.toronto.edu (Todd Kelley)\\nSubjec...</td>\n",
       "      <td>C:\\Users\\Yasim\\scikit_learn_data\\20news_home\\2...</td>\n",
       "      <td>NaN</td>\n",
       "      <td>0</td>\n",
       "      <td>NaN</td>\n",
       "    </tr>\n",
       "    <tr>\n",
       "      <th>7</th>\n",
       "      <td>From: picl25@fsphy1.physics.fsu.edu (PICL acco...</td>\n",
       "      <td>C:\\Users\\Yasim\\scikit_learn_data\\20news_home\\2...</td>\n",
       "      <td>NaN</td>\n",
       "      <td>2</td>\n",
       "      <td>NaN</td>\n",
       "    </tr>\n",
       "    <tr>\n",
       "      <th>8</th>\n",
       "      <td>From: chorley@vms.ocom.okstate.edu\\nSubject: R...</td>\n",
       "      <td>C:\\Users\\Yasim\\scikit_learn_data\\20news_home\\2...</td>\n",
       "      <td>NaN</td>\n",
       "      <td>2</td>\n",
       "      <td>NaN</td>\n",
       "    </tr>\n",
       "    <tr>\n",
       "      <th>9</th>\n",
       "      <td>From: jcarey@news.weeg.uiowa.edu (John Carey)\\...</td>\n",
       "      <td>C:\\Users\\Yasim\\scikit_learn_data\\20news_home\\2...</td>\n",
       "      <td>NaN</td>\n",
       "      <td>2</td>\n",
       "      <td>NaN</td>\n",
       "    </tr>\n",
       "    <tr>\n",
       "      <th>10</th>\n",
       "      <td>From: holzapfe@jocki.NoSubdomain.NoDomain (Rol...</td>\n",
       "      <td>C:\\Users\\Yasim\\scikit_learn_data\\20news_home\\2...</td>\n",
       "      <td>NaN</td>\n",
       "      <td>1</td>\n",
       "      <td>NaN</td>\n",
       "    </tr>\n",
       "    <tr>\n",
       "      <th>11</th>\n",
       "      <td>From: bobbe@vice.ICO.TEK.COM (Robert Beauchain...</td>\n",
       "      <td>C:\\Users\\Yasim\\scikit_learn_data\\20news_home\\2...</td>\n",
       "      <td>NaN</td>\n",
       "      <td>0</td>\n",
       "      <td>NaN</td>\n",
       "    </tr>\n",
       "    <tr>\n",
       "      <th>12</th>\n",
       "      <td>From: mathew &lt;mathew@mantis.co.uk&gt;\\nSubject: R...</td>\n",
       "      <td>C:\\Users\\Yasim\\scikit_learn_data\\20news_home\\2...</td>\n",
       "      <td>NaN</td>\n",
       "      <td>0</td>\n",
       "      <td>NaN</td>\n",
       "    </tr>\n",
       "    <tr>\n",
       "      <th>13</th>\n",
       "      <td>From: lioness@maple.circa.ufl.edu\\nSubject: Wh...</td>\n",
       "      <td>C:\\Users\\Yasim\\scikit_learn_data\\20news_home\\2...</td>\n",
       "      <td>NaN</td>\n",
       "      <td>1</td>\n",
       "      <td>NaN</td>\n",
       "    </tr>\n",
       "    <tr>\n",
       "      <th>14</th>\n",
       "      <td>From: stefanh@rahul.net (Stefan Hartmann)\\nSub...</td>\n",
       "      <td>C:\\Users\\Yasim\\scikit_learn_data\\20news_home\\2...</td>\n",
       "      <td>NaN</td>\n",
       "      <td>1</td>\n",
       "      <td>NaN</td>\n",
       "    </tr>\n",
       "    <tr>\n",
       "      <th>15</th>\n",
       "      <td>From: hall@vice.ico.tek.com (Hal F Lillywhite)...</td>\n",
       "      <td>C:\\Users\\Yasim\\scikit_learn_data\\20news_home\\2...</td>\n",
       "      <td>NaN</td>\n",
       "      <td>3</td>\n",
       "      <td>NaN</td>\n",
       "    </tr>\n",
       "    <tr>\n",
       "      <th>16</th>\n",
       "      <td>From: GMILLS@CHEMICAL.watstar.uwaterloo.ca (Ph...</td>\n",
       "      <td>C:\\Users\\Yasim\\scikit_learn_data\\20news_home\\2...</td>\n",
       "      <td>NaN</td>\n",
       "      <td>0</td>\n",
       "      <td>NaN</td>\n",
       "    </tr>\n",
       "    <tr>\n",
       "      <th>17</th>\n",
       "      <td>From: crgruen@sony1.sdrc.com (robert gruen)\\nS...</td>\n",
       "      <td>C:\\Users\\Yasim\\scikit_learn_data\\20news_home\\2...</td>\n",
       "      <td>NaN</td>\n",
       "      <td>1</td>\n",
       "      <td>NaN</td>\n",
       "    </tr>\n",
       "    <tr>\n",
       "      <th>18</th>\n",
       "      <td>From: acooper@mac.cc.macalstr.edu (Turin Turam...</td>\n",
       "      <td>C:\\Users\\Yasim\\scikit_learn_data\\20news_home\\2...</td>\n",
       "      <td>NaN</td>\n",
       "      <td>0</td>\n",
       "      <td>NaN</td>\n",
       "    </tr>\n",
       "    <tr>\n",
       "      <th>19</th>\n",
       "      <td>From: pages!bwebster@uunet.uu.net (Bruce F. We...</td>\n",
       "      <td>C:\\Users\\Yasim\\scikit_learn_data\\20news_home\\2...</td>\n",
       "      <td>NaN</td>\n",
       "      <td>3</td>\n",
       "      <td>NaN</td>\n",
       "    </tr>\n",
       "    <tr>\n",
       "      <th>20</th>\n",
       "      <td>From: scheiber@sage.cc.purdue.edu (Jennifer Sc...</td>\n",
       "      <td>C:\\Users\\Yasim\\scikit_learn_data\\20news_home\\2...</td>\n",
       "      <td>NaN</td>\n",
       "      <td>2</td>\n",
       "      <td>NaN</td>\n",
       "    </tr>\n",
       "    <tr>\n",
       "      <th>21</th>\n",
       "      <td>From: bill@solaria (Bill Neisius)\\nSubject: Re...</td>\n",
       "      <td>C:\\Users\\Yasim\\scikit_learn_data\\20news_home\\2...</td>\n",
       "      <td>NaN</td>\n",
       "      <td>1</td>\n",
       "      <td>NaN</td>\n",
       "    </tr>\n",
       "    <tr>\n",
       "      <th>22</th>\n",
       "      <td>Subject: Re: Age of Reason Was: Who has read R...</td>\n",
       "      <td>C:\\Users\\Yasim\\scikit_learn_data\\20news_home\\2...</td>\n",
       "      <td>NaN</td>\n",
       "      <td>0</td>\n",
       "      <td>NaN</td>\n",
       "    </tr>\n",
       "    <tr>\n",
       "      <th>23</th>\n",
       "      <td>From: perry@dsinc.com (Jim Perry)\\nSubject: Re...</td>\n",
       "      <td>C:\\Users\\Yasim\\scikit_learn_data\\20news_home\\2...</td>\n",
       "      <td>NaN</td>\n",
       "      <td>0</td>\n",
       "      <td>NaN</td>\n",
       "    </tr>\n",
       "    <tr>\n",
       "      <th>24</th>\n",
       "      <td>From: KPH@ECL.PSU.EDU (Kyle P Hunter)\\nSubject...</td>\n",
       "      <td>C:\\Users\\Yasim\\scikit_learn_data\\20news_home\\2...</td>\n",
       "      <td>NaN</td>\n",
       "      <td>0</td>\n",
       "      <td>NaN</td>\n",
       "    </tr>\n",
       "    <tr>\n",
       "      <th>25</th>\n",
       "      <td>From: mussack@austin.ibm.com (Christopher Muss...</td>\n",
       "      <td>C:\\Users\\Yasim\\scikit_learn_data\\20news_home\\2...</td>\n",
       "      <td>NaN</td>\n",
       "      <td>3</td>\n",
       "      <td>NaN</td>\n",
       "    </tr>\n",
       "    <tr>\n",
       "      <th>26</th>\n",
       "      <td>From: ddunlavy@casbah.acns.nwu.edu (Daniel Dun...</td>\n",
       "      <td>C:\\Users\\Yasim\\scikit_learn_data\\20news_home\\2...</td>\n",
       "      <td>NaN</td>\n",
       "      <td>1</td>\n",
       "      <td>NaN</td>\n",
       "    </tr>\n",
       "    <tr>\n",
       "      <th>27</th>\n",
       "      <td>From: deb47099@uxa.cso.uiuc.edu (Daniel E. Bra...</td>\n",
       "      <td>C:\\Users\\Yasim\\scikit_learn_data\\20news_home\\2...</td>\n",
       "      <td>NaN</td>\n",
       "      <td>1</td>\n",
       "      <td>NaN</td>\n",
       "    </tr>\n",
       "    <tr>\n",
       "      <th>28</th>\n",
       "      <td>From: mabusj@nason110.its.rpi.edu (Jasen M. Ma...</td>\n",
       "      <td>C:\\Users\\Yasim\\scikit_learn_data\\20news_home\\2...</td>\n",
       "      <td>NaN</td>\n",
       "      <td>1</td>\n",
       "      <td>NaN</td>\n",
       "    </tr>\n",
       "    <tr>\n",
       "      <th>29</th>\n",
       "      <td>From: olasov@cs.columbia.edu (Benjamin Olasov)...</td>\n",
       "      <td>C:\\Users\\Yasim\\scikit_learn_data\\20news_home\\2...</td>\n",
       "      <td>NaN</td>\n",
       "      <td>1</td>\n",
       "      <td>NaN</td>\n",
       "    </tr>\n",
       "    <tr>\n",
       "      <th>...</th>\n",
       "      <td>...</td>\n",
       "      <td>...</td>\n",
       "      <td>...</td>\n",
       "      <td>...</td>\n",
       "      <td>...</td>\n",
       "    </tr>\n",
       "    <tr>\n",
       "      <th>1472</th>\n",
       "      <td>From: wagner@grace.math.uh.edu (David Wagner)\\...</td>\n",
       "      <td>C:\\Users\\Yasim\\scikit_learn_data\\20news_home\\2...</td>\n",
       "      <td>NaN</td>\n",
       "      <td>3</td>\n",
       "      <td>NaN</td>\n",
       "    </tr>\n",
       "    <tr>\n",
       "      <th>1473</th>\n",
       "      <td>From: asecchia@cs.uct.ac.za (Adrian Secchia)\\n...</td>\n",
       "      <td>C:\\Users\\Yasim\\scikit_learn_data\\20news_home\\2...</td>\n",
       "      <td>NaN</td>\n",
       "      <td>1</td>\n",
       "      <td>NaN</td>\n",
       "    </tr>\n",
       "    <tr>\n",
       "      <th>1474</th>\n",
       "      <td>From: perry@dsinc.com (Jim Perry)\\nSubject: Re...</td>\n",
       "      <td>C:\\Users\\Yasim\\scikit_learn_data\\20news_home\\2...</td>\n",
       "      <td>NaN</td>\n",
       "      <td>0</td>\n",
       "      <td>NaN</td>\n",
       "    </tr>\n",
       "    <tr>\n",
       "      <th>1475</th>\n",
       "      <td>From: gt7122b@prism.gatech.edu (Randal Lee Nic...</td>\n",
       "      <td>C:\\Users\\Yasim\\scikit_learn_data\\20news_home\\2...</td>\n",
       "      <td>NaN</td>\n",
       "      <td>3</td>\n",
       "      <td>NaN</td>\n",
       "    </tr>\n",
       "    <tr>\n",
       "      <th>1476</th>\n",
       "      <td>From: pstlb@aurora.alaska.edu\\nSubject: Where ...</td>\n",
       "      <td>C:\\Users\\Yasim\\scikit_learn_data\\20news_home\\2...</td>\n",
       "      <td>NaN</td>\n",
       "      <td>1</td>\n",
       "      <td>NaN</td>\n",
       "    </tr>\n",
       "    <tr>\n",
       "      <th>1477</th>\n",
       "      <td>From: cobb@alexia.lis.uiuc.edu (Mike Cobb)\\nSu...</td>\n",
       "      <td>C:\\Users\\Yasim\\scikit_learn_data\\20news_home\\2...</td>\n",
       "      <td>NaN</td>\n",
       "      <td>0</td>\n",
       "      <td>NaN</td>\n",
       "    </tr>\n",
       "    <tr>\n",
       "      <th>1478</th>\n",
       "      <td>From: lamontg@u.washington.edu\\nSubject: Re: H...</td>\n",
       "      <td>C:\\Users\\Yasim\\scikit_learn_data\\20news_home\\2...</td>\n",
       "      <td>NaN</td>\n",
       "      <td>0</td>\n",
       "      <td>NaN</td>\n",
       "    </tr>\n",
       "    <tr>\n",
       "      <th>1479</th>\n",
       "      <td>From: sfp@lemur.cit.cornell.edu (Sheila Patter...</td>\n",
       "      <td>C:\\Users\\Yasim\\scikit_learn_data\\20news_home\\2...</td>\n",
       "      <td>NaN</td>\n",
       "      <td>3</td>\n",
       "      <td>NaN</td>\n",
       "    </tr>\n",
       "    <tr>\n",
       "      <th>1480</th>\n",
       "      <td>From: mayne@pipe.cs.fsu.edu (William Mayne)\\nS...</td>\n",
       "      <td>C:\\Users\\Yasim\\scikit_learn_data\\20news_home\\2...</td>\n",
       "      <td>NaN</td>\n",
       "      <td>0</td>\n",
       "      <td>NaN</td>\n",
       "    </tr>\n",
       "    <tr>\n",
       "      <th>1481</th>\n",
       "      <td>From: creps@lateran.ucs.indiana.edu (Stephen A...</td>\n",
       "      <td>C:\\Users\\Yasim\\scikit_learn_data\\20news_home\\2...</td>\n",
       "      <td>NaN</td>\n",
       "      <td>3</td>\n",
       "      <td>NaN</td>\n",
       "    </tr>\n",
       "    <tr>\n",
       "      <th>1482</th>\n",
       "      <td>From: armstrng@cs.dal.ca (Stan Armstrong)\\nSub...</td>\n",
       "      <td>C:\\Users\\Yasim\\scikit_learn_data\\20news_home\\2...</td>\n",
       "      <td>NaN</td>\n",
       "      <td>3</td>\n",
       "      <td>NaN</td>\n",
       "    </tr>\n",
       "    <tr>\n",
       "      <th>1483</th>\n",
       "      <td>From: taob@r-node.hub.org (Brian Tao)\\nSubject...</td>\n",
       "      <td>C:\\Users\\Yasim\\scikit_learn_data\\20news_home\\2...</td>\n",
       "      <td>NaN</td>\n",
       "      <td>2</td>\n",
       "      <td>NaN</td>\n",
       "    </tr>\n",
       "    <tr>\n",
       "      <th>1484</th>\n",
       "      <td>From: wdw@dragon.acadiau.ca (Bill Wilder)\\nSub...</td>\n",
       "      <td>C:\\Users\\Yasim\\scikit_learn_data\\20news_home\\2...</td>\n",
       "      <td>NaN</td>\n",
       "      <td>2</td>\n",
       "      <td>NaN</td>\n",
       "    </tr>\n",
       "    <tr>\n",
       "      <th>1485</th>\n",
       "      <td>From: gt7122b@prism.gatech.edu (Randal Lee Nic...</td>\n",
       "      <td>C:\\Users\\Yasim\\scikit_learn_data\\20news_home\\2...</td>\n",
       "      <td>NaN</td>\n",
       "      <td>3</td>\n",
       "      <td>NaN</td>\n",
       "    </tr>\n",
       "    <tr>\n",
       "      <th>1486</th>\n",
       "      <td>Subject: DXF to PCX,GIF,TIF or TGA?\\nFrom: mur...</td>\n",
       "      <td>C:\\Users\\Yasim\\scikit_learn_data\\20news_home\\2...</td>\n",
       "      <td>NaN</td>\n",
       "      <td>1</td>\n",
       "      <td>NaN</td>\n",
       "    </tr>\n",
       "    <tr>\n",
       "      <th>1487</th>\n",
       "      <td>From: uabdpo.dpo.uab.edu!gila005 (Stephen Holl...</td>\n",
       "      <td>C:\\Users\\Yasim\\scikit_learn_data\\20news_home\\2...</td>\n",
       "      <td>NaN</td>\n",
       "      <td>2</td>\n",
       "      <td>NaN</td>\n",
       "    </tr>\n",
       "    <tr>\n",
       "      <th>1488</th>\n",
       "      <td>From: tmc@spartan.ac.BrockU.CA (Tim Ciceran)\\n...</td>\n",
       "      <td>C:\\Users\\Yasim\\scikit_learn_data\\20news_home\\2...</td>\n",
       "      <td>NaN</td>\n",
       "      <td>1</td>\n",
       "      <td>NaN</td>\n",
       "    </tr>\n",
       "    <tr>\n",
       "      <th>1489</th>\n",
       "      <td>From: wpwood@darkwing.austin.ibm.com\\nSubject:...</td>\n",
       "      <td>C:\\Users\\Yasim\\scikit_learn_data\\20news_home\\2...</td>\n",
       "      <td>NaN</td>\n",
       "      <td>1</td>\n",
       "      <td>NaN</td>\n",
       "    </tr>\n",
       "    <tr>\n",
       "      <th>1490</th>\n",
       "      <td>From: alford@novavax.UUCP (Steven Alford)\\nSub...</td>\n",
       "      <td>C:\\Users\\Yasim\\scikit_learn_data\\20news_home\\2...</td>\n",
       "      <td>NaN</td>\n",
       "      <td>1</td>\n",
       "      <td>NaN</td>\n",
       "    </tr>\n",
       "    <tr>\n",
       "      <th>1491</th>\n",
       "      <td>From: hollasch@kpc.com (Steve Hollasch)\\nSubje...</td>\n",
       "      <td>C:\\Users\\Yasim\\scikit_learn_data\\20news_home\\2...</td>\n",
       "      <td>NaN</td>\n",
       "      <td>1</td>\n",
       "      <td>NaN</td>\n",
       "    </tr>\n",
       "    <tr>\n",
       "      <th>1492</th>\n",
       "      <td>From: mcovingt@aisun3.ai.uga.edu (Michael Covi...</td>\n",
       "      <td>C:\\Users\\Yasim\\scikit_learn_data\\20news_home\\2...</td>\n",
       "      <td>NaN</td>\n",
       "      <td>2</td>\n",
       "      <td>NaN</td>\n",
       "    </tr>\n",
       "    <tr>\n",
       "      <th>1493</th>\n",
       "      <td>From: db7n+@andrew.cmu.edu (D. Andrew Byler)\\n...</td>\n",
       "      <td>C:\\Users\\Yasim\\scikit_learn_data\\20news_home\\2...</td>\n",
       "      <td>NaN</td>\n",
       "      <td>3</td>\n",
       "      <td>NaN</td>\n",
       "    </tr>\n",
       "    <tr>\n",
       "      <th>1494</th>\n",
       "      <td>From: bakerlj@augustana.edu (LLOYD BAKER)\\nSub...</td>\n",
       "      <td>C:\\Users\\Yasim\\scikit_learn_data\\20news_home\\2...</td>\n",
       "      <td>NaN</td>\n",
       "      <td>0</td>\n",
       "      <td>NaN</td>\n",
       "    </tr>\n",
       "    <tr>\n",
       "      <th>1495</th>\n",
       "      <td>From: Eugene.Bigelow@ebay.sun.com (Geno )\\nSub...</td>\n",
       "      <td>C:\\Users\\Yasim\\scikit_learn_data\\20news_home\\2...</td>\n",
       "      <td>NaN</td>\n",
       "      <td>3</td>\n",
       "      <td>NaN</td>\n",
       "    </tr>\n",
       "    <tr>\n",
       "      <th>1496</th>\n",
       "      <td>From: gt7122b@prism.gatech.edu (Randal Lee Nic...</td>\n",
       "      <td>C:\\Users\\Yasim\\scikit_learn_data\\20news_home\\2...</td>\n",
       "      <td>NaN</td>\n",
       "      <td>3</td>\n",
       "      <td>NaN</td>\n",
       "    </tr>\n",
       "    <tr>\n",
       "      <th>1497</th>\n",
       "      <td>From: Fil.Sapienza@med.umich.edu (Fil Sapienza...</td>\n",
       "      <td>C:\\Users\\Yasim\\scikit_learn_data\\20news_home\\2...</td>\n",
       "      <td>NaN</td>\n",
       "      <td>3</td>\n",
       "      <td>NaN</td>\n",
       "    </tr>\n",
       "    <tr>\n",
       "      <th>1498</th>\n",
       "      <td>From: christen@astro.ocis.temple.edu (Carl Chr...</td>\n",
       "      <td>C:\\Users\\Yasim\\scikit_learn_data\\20news_home\\2...</td>\n",
       "      <td>NaN</td>\n",
       "      <td>0</td>\n",
       "      <td>NaN</td>\n",
       "    </tr>\n",
       "    <tr>\n",
       "      <th>1499</th>\n",
       "      <td>From: jlin@convex1.tcs.tulane.edu.tulane.edu (...</td>\n",
       "      <td>C:\\Users\\Yasim\\scikit_learn_data\\20news_home\\2...</td>\n",
       "      <td>NaN</td>\n",
       "      <td>3</td>\n",
       "      <td>NaN</td>\n",
       "    </tr>\n",
       "    <tr>\n",
       "      <th>1500</th>\n",
       "      <td>From: tony@scotty.dccs.upenn.edu (Anthony Olej...</td>\n",
       "      <td>C:\\Users\\Yasim\\scikit_learn_data\\20news_home\\2...</td>\n",
       "      <td>NaN</td>\n",
       "      <td>3</td>\n",
       "      <td>NaN</td>\n",
       "    </tr>\n",
       "    <tr>\n",
       "      <th>1501</th>\n",
       "      <td>From: mcovingt@aisun4.ai.uga.edu (Michael Covi...</td>\n",
       "      <td>C:\\Users\\Yasim\\scikit_learn_data\\20news_home\\2...</td>\n",
       "      <td>NaN</td>\n",
       "      <td>2</td>\n",
       "      <td>NaN</td>\n",
       "    </tr>\n",
       "  </tbody>\n",
       "</table>\n",
       "<p>1502 rows × 5 columns</p>\n",
       "</div>"
      ],
      "text/plain": [
       "                                                   data  \\\n",
       "0     From: nagle@netcom.com (John Nagle)\\nSubject: ...   \n",
       "1     From: d91tm@efd.lth.se (Tomas Moeller)\\nSubjec...   \n",
       "2     From: ceci@lysator.liu.se (Cecilia Henningsson...   \n",
       "3     From: gilham@csl.sri.com (Fred Gilham)\\nSubjec...   \n",
       "4     From: swf@elsegundoca.ncr.com (Stan Friesen)\\n...   \n",
       "5     From: JEK@cu.nih.gov\\nSubject: Jacob and Esau\\...   \n",
       "6     From: tgk@cs.toronto.edu (Todd Kelley)\\nSubjec...   \n",
       "7     From: picl25@fsphy1.physics.fsu.edu (PICL acco...   \n",
       "8     From: chorley@vms.ocom.okstate.edu\\nSubject: R...   \n",
       "9     From: jcarey@news.weeg.uiowa.edu (John Carey)\\...   \n",
       "10    From: holzapfe@jocki.NoSubdomain.NoDomain (Rol...   \n",
       "11    From: bobbe@vice.ICO.TEK.COM (Robert Beauchain...   \n",
       "12    From: mathew <mathew@mantis.co.uk>\\nSubject: R...   \n",
       "13    From: lioness@maple.circa.ufl.edu\\nSubject: Wh...   \n",
       "14    From: stefanh@rahul.net (Stefan Hartmann)\\nSub...   \n",
       "15    From: hall@vice.ico.tek.com (Hal F Lillywhite)...   \n",
       "16    From: GMILLS@CHEMICAL.watstar.uwaterloo.ca (Ph...   \n",
       "17    From: crgruen@sony1.sdrc.com (robert gruen)\\nS...   \n",
       "18    From: acooper@mac.cc.macalstr.edu (Turin Turam...   \n",
       "19    From: pages!bwebster@uunet.uu.net (Bruce F. We...   \n",
       "20    From: scheiber@sage.cc.purdue.edu (Jennifer Sc...   \n",
       "21    From: bill@solaria (Bill Neisius)\\nSubject: Re...   \n",
       "22    Subject: Re: Age of Reason Was: Who has read R...   \n",
       "23    From: perry@dsinc.com (Jim Perry)\\nSubject: Re...   \n",
       "24    From: KPH@ECL.PSU.EDU (Kyle P Hunter)\\nSubject...   \n",
       "25    From: mussack@austin.ibm.com (Christopher Muss...   \n",
       "26    From: ddunlavy@casbah.acns.nwu.edu (Daniel Dun...   \n",
       "27    From: deb47099@uxa.cso.uiuc.edu (Daniel E. Bra...   \n",
       "28    From: mabusj@nason110.its.rpi.edu (Jasen M. Ma...   \n",
       "29    From: olasov@cs.columbia.edu (Benjamin Olasov)...   \n",
       "...                                                 ...   \n",
       "1472  From: wagner@grace.math.uh.edu (David Wagner)\\...   \n",
       "1473  From: asecchia@cs.uct.ac.za (Adrian Secchia)\\n...   \n",
       "1474  From: perry@dsinc.com (Jim Perry)\\nSubject: Re...   \n",
       "1475  From: gt7122b@prism.gatech.edu (Randal Lee Nic...   \n",
       "1476  From: pstlb@aurora.alaska.edu\\nSubject: Where ...   \n",
       "1477  From: cobb@alexia.lis.uiuc.edu (Mike Cobb)\\nSu...   \n",
       "1478  From: lamontg@u.washington.edu\\nSubject: Re: H...   \n",
       "1479  From: sfp@lemur.cit.cornell.edu (Sheila Patter...   \n",
       "1480  From: mayne@pipe.cs.fsu.edu (William Mayne)\\nS...   \n",
       "1481  From: creps@lateran.ucs.indiana.edu (Stephen A...   \n",
       "1482  From: armstrng@cs.dal.ca (Stan Armstrong)\\nSub...   \n",
       "1483  From: taob@r-node.hub.org (Brian Tao)\\nSubject...   \n",
       "1484  From: wdw@dragon.acadiau.ca (Bill Wilder)\\nSub...   \n",
       "1485  From: gt7122b@prism.gatech.edu (Randal Lee Nic...   \n",
       "1486  Subject: DXF to PCX,GIF,TIF or TGA?\\nFrom: mur...   \n",
       "1487  From: uabdpo.dpo.uab.edu!gila005 (Stephen Holl...   \n",
       "1488  From: tmc@spartan.ac.BrockU.CA (Tim Ciceran)\\n...   \n",
       "1489  From: wpwood@darkwing.austin.ibm.com\\nSubject:...   \n",
       "1490  From: alford@novavax.UUCP (Steven Alford)\\nSub...   \n",
       "1491  From: hollasch@kpc.com (Steve Hollasch)\\nSubje...   \n",
       "1492  From: mcovingt@aisun3.ai.uga.edu (Michael Covi...   \n",
       "1493  From: db7n+@andrew.cmu.edu (D. Andrew Byler)\\n...   \n",
       "1494  From: bakerlj@augustana.edu (LLOYD BAKER)\\nSub...   \n",
       "1495  From: Eugene.Bigelow@ebay.sun.com (Geno )\\nSub...   \n",
       "1496  From: gt7122b@prism.gatech.edu (Randal Lee Nic...   \n",
       "1497  From: Fil.Sapienza@med.umich.edu (Fil Sapienza...   \n",
       "1498  From: christen@astro.ocis.temple.edu (Carl Chr...   \n",
       "1499  From: jlin@convex1.tcs.tulane.edu.tulane.edu (...   \n",
       "1500  From: tony@scotty.dccs.upenn.edu (Anthony Olej...   \n",
       "1501  From: mcovingt@aisun4.ai.uga.edu (Michael Covi...   \n",
       "\n",
       "                                              filenames  \\\n",
       "0     C:\\Users\\Yasim\\scikit_learn_data\\20news_home\\2...   \n",
       "1     C:\\Users\\Yasim\\scikit_learn_data\\20news_home\\2...   \n",
       "2     C:\\Users\\Yasim\\scikit_learn_data\\20news_home\\2...   \n",
       "3     C:\\Users\\Yasim\\scikit_learn_data\\20news_home\\2...   \n",
       "4     C:\\Users\\Yasim\\scikit_learn_data\\20news_home\\2...   \n",
       "5     C:\\Users\\Yasim\\scikit_learn_data\\20news_home\\2...   \n",
       "6     C:\\Users\\Yasim\\scikit_learn_data\\20news_home\\2...   \n",
       "7     C:\\Users\\Yasim\\scikit_learn_data\\20news_home\\2...   \n",
       "8     C:\\Users\\Yasim\\scikit_learn_data\\20news_home\\2...   \n",
       "9     C:\\Users\\Yasim\\scikit_learn_data\\20news_home\\2...   \n",
       "10    C:\\Users\\Yasim\\scikit_learn_data\\20news_home\\2...   \n",
       "11    C:\\Users\\Yasim\\scikit_learn_data\\20news_home\\2...   \n",
       "12    C:\\Users\\Yasim\\scikit_learn_data\\20news_home\\2...   \n",
       "13    C:\\Users\\Yasim\\scikit_learn_data\\20news_home\\2...   \n",
       "14    C:\\Users\\Yasim\\scikit_learn_data\\20news_home\\2...   \n",
       "15    C:\\Users\\Yasim\\scikit_learn_data\\20news_home\\2...   \n",
       "16    C:\\Users\\Yasim\\scikit_learn_data\\20news_home\\2...   \n",
       "17    C:\\Users\\Yasim\\scikit_learn_data\\20news_home\\2...   \n",
       "18    C:\\Users\\Yasim\\scikit_learn_data\\20news_home\\2...   \n",
       "19    C:\\Users\\Yasim\\scikit_learn_data\\20news_home\\2...   \n",
       "20    C:\\Users\\Yasim\\scikit_learn_data\\20news_home\\2...   \n",
       "21    C:\\Users\\Yasim\\scikit_learn_data\\20news_home\\2...   \n",
       "22    C:\\Users\\Yasim\\scikit_learn_data\\20news_home\\2...   \n",
       "23    C:\\Users\\Yasim\\scikit_learn_data\\20news_home\\2...   \n",
       "24    C:\\Users\\Yasim\\scikit_learn_data\\20news_home\\2...   \n",
       "25    C:\\Users\\Yasim\\scikit_learn_data\\20news_home\\2...   \n",
       "26    C:\\Users\\Yasim\\scikit_learn_data\\20news_home\\2...   \n",
       "27    C:\\Users\\Yasim\\scikit_learn_data\\20news_home\\2...   \n",
       "28    C:\\Users\\Yasim\\scikit_learn_data\\20news_home\\2...   \n",
       "29    C:\\Users\\Yasim\\scikit_learn_data\\20news_home\\2...   \n",
       "...                                                 ...   \n",
       "1472  C:\\Users\\Yasim\\scikit_learn_data\\20news_home\\2...   \n",
       "1473  C:\\Users\\Yasim\\scikit_learn_data\\20news_home\\2...   \n",
       "1474  C:\\Users\\Yasim\\scikit_learn_data\\20news_home\\2...   \n",
       "1475  C:\\Users\\Yasim\\scikit_learn_data\\20news_home\\2...   \n",
       "1476  C:\\Users\\Yasim\\scikit_learn_data\\20news_home\\2...   \n",
       "1477  C:\\Users\\Yasim\\scikit_learn_data\\20news_home\\2...   \n",
       "1478  C:\\Users\\Yasim\\scikit_learn_data\\20news_home\\2...   \n",
       "1479  C:\\Users\\Yasim\\scikit_learn_data\\20news_home\\2...   \n",
       "1480  C:\\Users\\Yasim\\scikit_learn_data\\20news_home\\2...   \n",
       "1481  C:\\Users\\Yasim\\scikit_learn_data\\20news_home\\2...   \n",
       "1482  C:\\Users\\Yasim\\scikit_learn_data\\20news_home\\2...   \n",
       "1483  C:\\Users\\Yasim\\scikit_learn_data\\20news_home\\2...   \n",
       "1484  C:\\Users\\Yasim\\scikit_learn_data\\20news_home\\2...   \n",
       "1485  C:\\Users\\Yasim\\scikit_learn_data\\20news_home\\2...   \n",
       "1486  C:\\Users\\Yasim\\scikit_learn_data\\20news_home\\2...   \n",
       "1487  C:\\Users\\Yasim\\scikit_learn_data\\20news_home\\2...   \n",
       "1488  C:\\Users\\Yasim\\scikit_learn_data\\20news_home\\2...   \n",
       "1489  C:\\Users\\Yasim\\scikit_learn_data\\20news_home\\2...   \n",
       "1490  C:\\Users\\Yasim\\scikit_learn_data\\20news_home\\2...   \n",
       "1491  C:\\Users\\Yasim\\scikit_learn_data\\20news_home\\2...   \n",
       "1492  C:\\Users\\Yasim\\scikit_learn_data\\20news_home\\2...   \n",
       "1493  C:\\Users\\Yasim\\scikit_learn_data\\20news_home\\2...   \n",
       "1494  C:\\Users\\Yasim\\scikit_learn_data\\20news_home\\2...   \n",
       "1495  C:\\Users\\Yasim\\scikit_learn_data\\20news_home\\2...   \n",
       "1496  C:\\Users\\Yasim\\scikit_learn_data\\20news_home\\2...   \n",
       "1497  C:\\Users\\Yasim\\scikit_learn_data\\20news_home\\2...   \n",
       "1498  C:\\Users\\Yasim\\scikit_learn_data\\20news_home\\2...   \n",
       "1499  C:\\Users\\Yasim\\scikit_learn_data\\20news_home\\2...   \n",
       "1500  C:\\Users\\Yasim\\scikit_learn_data\\20news_home\\2...   \n",
       "1501  C:\\Users\\Yasim\\scikit_learn_data\\20news_home\\2...   \n",
       "\n",
       "                target_names  target  \\\n",
       "0                alt.atheism       1   \n",
       "1              comp.graphics       1   \n",
       "2                    sci.med       2   \n",
       "3     soc.religion.christian       3   \n",
       "4                        NaN       3   \n",
       "5                        NaN       3   \n",
       "6                        NaN       0   \n",
       "7                        NaN       2   \n",
       "8                        NaN       2   \n",
       "9                        NaN       2   \n",
       "10                       NaN       1   \n",
       "11                       NaN       0   \n",
       "12                       NaN       0   \n",
       "13                       NaN       1   \n",
       "14                       NaN       1   \n",
       "15                       NaN       3   \n",
       "16                       NaN       0   \n",
       "17                       NaN       1   \n",
       "18                       NaN       0   \n",
       "19                       NaN       3   \n",
       "20                       NaN       2   \n",
       "21                       NaN       1   \n",
       "22                       NaN       0   \n",
       "23                       NaN       0   \n",
       "24                       NaN       0   \n",
       "25                       NaN       3   \n",
       "26                       NaN       1   \n",
       "27                       NaN       1   \n",
       "28                       NaN       1   \n",
       "29                       NaN       1   \n",
       "...                      ...     ...   \n",
       "1472                     NaN       3   \n",
       "1473                     NaN       1   \n",
       "1474                     NaN       0   \n",
       "1475                     NaN       3   \n",
       "1476                     NaN       1   \n",
       "1477                     NaN       0   \n",
       "1478                     NaN       0   \n",
       "1479                     NaN       3   \n",
       "1480                     NaN       0   \n",
       "1481                     NaN       3   \n",
       "1482                     NaN       3   \n",
       "1483                     NaN       2   \n",
       "1484                     NaN       2   \n",
       "1485                     NaN       3   \n",
       "1486                     NaN       1   \n",
       "1487                     NaN       2   \n",
       "1488                     NaN       1   \n",
       "1489                     NaN       1   \n",
       "1490                     NaN       1   \n",
       "1491                     NaN       1   \n",
       "1492                     NaN       2   \n",
       "1493                     NaN       3   \n",
       "1494                     NaN       0   \n",
       "1495                     NaN       3   \n",
       "1496                     NaN       3   \n",
       "1497                     NaN       3   \n",
       "1498                     NaN       0   \n",
       "1499                     NaN       3   \n",
       "1500                     NaN       3   \n",
       "1501                     NaN       2   \n",
       "\n",
       "                                                  DESCR  \n",
       "0     .. _20newsgroups_dataset:\\n\\nThe 20 newsgroups...  \n",
       "1                                                   NaN  \n",
       "2                                                   NaN  \n",
       "3                                                   NaN  \n",
       "4                                                   NaN  \n",
       "5                                                   NaN  \n",
       "6                                                   NaN  \n",
       "7                                                   NaN  \n",
       "8                                                   NaN  \n",
       "9                                                   NaN  \n",
       "10                                                  NaN  \n",
       "11                                                  NaN  \n",
       "12                                                  NaN  \n",
       "13                                                  NaN  \n",
       "14                                                  NaN  \n",
       "15                                                  NaN  \n",
       "16                                                  NaN  \n",
       "17                                                  NaN  \n",
       "18                                                  NaN  \n",
       "19                                                  NaN  \n",
       "20                                                  NaN  \n",
       "21                                                  NaN  \n",
       "22                                                  NaN  \n",
       "23                                                  NaN  \n",
       "24                                                  NaN  \n",
       "25                                                  NaN  \n",
       "26                                                  NaN  \n",
       "27                                                  NaN  \n",
       "28                                                  NaN  \n",
       "29                                                  NaN  \n",
       "...                                                 ...  \n",
       "1472                                                NaN  \n",
       "1473                                                NaN  \n",
       "1474                                                NaN  \n",
       "1475                                                NaN  \n",
       "1476                                                NaN  \n",
       "1477                                                NaN  \n",
       "1478                                                NaN  \n",
       "1479                                                NaN  \n",
       "1480                                                NaN  \n",
       "1481                                                NaN  \n",
       "1482                                                NaN  \n",
       "1483                                                NaN  \n",
       "1484                                                NaN  \n",
       "1485                                                NaN  \n",
       "1486                                                NaN  \n",
       "1487                                                NaN  \n",
       "1488                                                NaN  \n",
       "1489                                                NaN  \n",
       "1490                                                NaN  \n",
       "1491                                                NaN  \n",
       "1492                                                NaN  \n",
       "1493                                                NaN  \n",
       "1494                                                NaN  \n",
       "1495                                                NaN  \n",
       "1496                                                NaN  \n",
       "1497                                                NaN  \n",
       "1498                                                NaN  \n",
       "1499                                                NaN  \n",
       "1500                                                NaN  \n",
       "1501                                                NaN  \n",
       "\n",
       "[1502 rows x 5 columns]"
      ]
     },
     "execution_count": 40,
     "metadata": {},
     "output_type": "execute_result"
    }
   ],
   "source": [
    "new_df = pd.DataFrame({ key:pd.Series(value) for key, value in test_20_newsgroups.items() })\n",
    "new_df"
   ]
  },
  {
   "cell_type": "code",
   "execution_count": 73,
   "metadata": {},
   "outputs": [],
   "source": [
    "# function to plot most frequent terms \n",
    "from nltk import FreqDist\n",
    "def freq_words(x, terms = 30): \n",
    "  all_words = ' '.join([text for text in x]) \n",
    "  all_words = all_words.split() \n",
    "  \n",
    "  fdist = FreqDist(all_words) \n",
    "  words_df = pd.DataFrame({'word':list(fdist.keys()),   \n",
    "             'count':list(fdist.values())}) \n",
    "\n",
    "# selecting top 30 most frequent words \n",
    "  d = words_df.nlargest(columns=\"count\", n = terms)      \n",
    "  plt.figure(figsize=(20,5)) \n",
    "  ax = sns.barplot(data=d, x= \"word\", y = \"count\") \n",
    "  ax.set(ylabel = 'Count') \n",
    "  plt.show()"
   ]
  },
  {
   "cell_type": "code",
   "execution_count": 74,
   "metadata": {},
   "outputs": [
    {
     "data": {
      "image/png": "[encoded data removed]",
      "text/plain": [
       "<Figure size 1440x360 with 1 Axes>"
      ]
     },
     "metadata": {
      "needs_background": "light"
     },
     "output_type": "display_data"
    }
   ],
   "source": [
    "freq_words(new_df['data'])"
   ]
  },
  {
   "cell_type": "markdown",
   "metadata": {},
   "source": [
    "### Testing results with RandomForestClassifier"
   ]
  },
  {
   "cell_type": "code",
   "execution_count": 38,
   "metadata": {},
   "outputs": [
    {
     "name": "stdout",
     "output_type": "stream",
     "text": [
      "Time taken by RandomForestClassifier:  9.58 secs\n",
      "RF Classsifier Prediction Accuracy:  78.96\n"
     ]
    }
   ],
   "source": [
    "from sklearn.ensemble import RandomForestClassifier\n",
    "t0 = time()\n",
    "rf_clf = Pipeline([('vect', TfidfVectorizer(sublinear_tf=True , norm='l2', encoding='latin-1', ngram_range=(1, 2), stop_words='english')),\n",
    "                    ('clf' ,RandomForestClassifier(n_estimators = 200, max_depth=25, random_state=21))\n",
    "                  ])\n",
    "rf_clf.fit(train_20_newsgroups.data, train_20_newsgroups.target)\n",
    "rf_predict_time = round((time() -t0),2)\n",
    "print('Time taken by RandomForestClassifier: ', rf_predict_time,'secs')\n",
    "rf_clf_predict = rf_clf.predict(test_20_newsgroups.data)\n",
    "rf_predict_acc = round(np.mean(rf_clf_predict == test_20_newsgroups.target) * 100, 2)\n",
    "print('RF Classsifier Prediction Accuracy: ', rf_predict_acc)"
   ]
  },
  {
   "cell_type": "code",
   "execution_count": 233,
   "metadata": {},
   "outputs": [
    {
     "data": {
      "image/png": "[encoded data removed]",
      "text/plain": [
       "<Figure size 720x720 with 2 Axes>"
      ]
     },
     "metadata": {
      "needs_background": "light"
     },
     "output_type": "display_data"
    }
   ],
   "source": [
    "rf_conf_mat = metrics.confusion_matrix(test_20_newsgroups.target, rf_clf_predict)\n",
    "fig, ax = plt.subplots(figsize=(10,10))\n",
    "sns.heatmap(rf_conf_mat, annot=True, fmt='d', cmap = sns.diverging_palette(220,10, as_cmap=True),\n",
    "            xticklabels=test_20_newsgroups.target_names , yticklabels= test_20_newsgroups.target_names)\n",
    "plt.ylabel('Actual')\n",
    "plt.xlabel('Predicted')\n",
    "plt.title('Randon Forest Confusion Matrix')\n",
    "plt.show()"
   ]
  },
  {
   "cell_type": "markdown",
   "metadata": {},
   "source": [
    "### Testing results with Decision Tree"
   ]
  },
  {
   "cell_type": "code",
   "execution_count": 39,
   "metadata": {},
   "outputs": [
    {
     "name": "stdout",
     "output_type": "stream",
     "text": [
      "Decision tree classifier\n",
      "Time taken to Execute Decision Tree:  8.67 secs\n",
      "Decision tree Prediction Accuracy:  69.31\n"
     ]
    }
   ],
   "source": [
    "  ## Decision Tree\n",
    "from sklearn.tree import DecisionTreeClassifier\n",
    "print('Decision tree classifier')\n",
    "t0 = time()\n",
    "dt_clf = Pipeline([('vect', TfidfVectorizer(sublinear_tf = True, norm='l2', ngram_range=(1, 2), stop_words = 'english')),\n",
    "                   ('clf', DecisionTreeClassifier(random_state=21)) ### max_depth=25\n",
    "                  ])\n",
    "dt_clf.fit(train_20_newsgroups.data, train_20_newsgroups.target)\n",
    "dt_predict_time = round((time() -t0),2)\n",
    "print('Time taken to Execute Decision Tree: ', dt_predict_time,'secs')\n",
    "dt_clf_predict = dt_clf.predict(test_20_newsgroups.data)\n",
    "dt_predict_acc = round(np.mean(dt_clf_predict == test_20_newsgroups.target) * 100, 2)\n",
    "print('Decision tree Prediction Accuracy: ', dt_predict_acc)"
   ]
  },
  {
   "cell_type": "code",
   "execution_count": 208,
   "metadata": {},
   "outputs": [
    {
     "data": {
      "image/png": "[encoded data removed]",
      "text/plain": [
       "<Figure size 720x720 with 2 Axes>"
      ]
     },
     "metadata": {
      "needs_background": "light"
     },
     "output_type": "display_data"
    }
   ],
   "source": [
    "dt_clf_mat = metrics.confusion_matrix(test_20_newsgroups.target, dt_clf_predict)\n",
    "fig, ax = plt.subplots(figsize=(10,10))\n",
    "sns.heatmap(dt_clf_mat, annot=True, fmt='d', cmap=sns.diverging_palette(220,10, as_cmap=True),\n",
    "           xticklabels = test_20_newsgroups.target_names, yticklabels = test_20_newsgroups.target_names)\n",
    "plt.ylabel('Actual')\n",
    "plt.xlabel('Predicted')\n",
    "plt.title('Decision Tree Confusion Matrix')\n",
    "plt.show()"
   ]
  },
  {
   "cell_type": "markdown",
   "metadata": {},
   "source": [
    "### Testing results with K Nearest Neighbor classifier"
   ]
  },
  {
   "cell_type": "code",
   "execution_count": 40,
   "metadata": {},
   "outputs": [
    {
     "name": "stdout",
     "output_type": "stream",
     "text": [
      "K Nearest Neighbor classifier\n",
      "Time taken to execute KNN:  5.19 secs\n",
      "K Nearest Neighbor Prediction Accuracy:  84.02\n"
     ]
    }
   ],
   "source": [
    "  ## Nearest Neighbors\n",
    "from sklearn.neighbors import KNeighborsClassifier\n",
    "print('K Nearest Neighbor classifier')\n",
    "t0 = time()\n",
    "knn_clf = Pipeline([('vect', TfidfVectorizer(sublinear_tf = True, norm='l2', ngram_range=(1,2), stop_words = 'english')),\n",
    "                    ('clf', KNeighborsClassifier(n_neighbors=5))\n",
    "                   ])\n",
    "        \n",
    "knn_clf.fit(train_20_newsgroups.data, train_20_newsgroups.target)\n",
    "knn_predict_time = round((time() -t0),2)\n",
    "print('Time taken to execute KNN: ', knn_predict_time,'secs')\n",
    "knn_predict = knn_clf.predict(test_20_newsgroups.data)\n",
    "knn_predict_acc = round(np.mean(knn_predict == test_20_newsgroups.target) * 100, 2)\n",
    "print('K Nearest Neighbor Prediction Accuracy: ', knn_predict_acc)"
   ]
  },
  {
   "cell_type": "code",
   "execution_count": 28,
   "metadata": {},
   "outputs": [
    {
     "data": {
      "image/png": "[encoded data removed]",
      "text/plain": [
       "<Figure size 720x720 with 2 Axes>"
      ]
     },
     "metadata": {
      "needs_background": "light"
     },
     "output_type": "display_data"
    }
   ],
   "source": [
    "knn_clf_mat = metrics.confusion_matrix(test_20_newsgroups.target, knn_predict)\n",
    "fig, ax = plt.subplots(figsize=(10,10))\n",
    "sns.heatmap(knn_clf_mat, annot=True, fmt='d', cmap=sns.diverging_palette(220,10, as_cmap=True),\n",
    "           xticklabels = test_20_newsgroups.target_names, yticklabels = test_20_newsgroups.target_names)\n",
    "plt.ylabel('Actual')\n",
    "plt.xlabel('Predicted')\n",
    "plt.title('K Nearest Neighbor classifier Confusion Matrix')\n",
    "plt.show()"
   ]
  },
  {
   "cell_type": "markdown",
   "metadata": {},
   "source": [
    "#### The final chosen algorithm chosen based on the prediction accuracy and based on confusion matrix is linear SVC. \n",
    "#### Calculate other metrics for Linear SVC such as precision, recall, F1 score etc. "
   ]
  },
  {
   "cell_type": "code",
   "execution_count": 65,
   "metadata": {},
   "outputs": [
    {
     "data": {
      "text/html": [
       "<div>\n",
       "<style scoped>\n",
       "    .dataframe tbody tr th:only-of-type {\n",
       "        vertical-align: middle;\n",
       "    }\n",
       "\n",
       "    .dataframe tbody tr th {\n",
       "        vertical-align: top;\n",
       "    }\n",
       "\n",
       "    .dataframe thead th {\n",
       "        text-align: right;\n",
       "    }\n",
       "</style>\n",
       "<table border=\"1\" class=\"dataframe\">\n",
       "  <thead>\n",
       "    <tr style=\"text-align: right;\">\n",
       "      <th></th>\n",
       "      <th>model_names</th>\n",
       "      <th>accuracy</th>\n",
       "      <th>Time taken:</th>\n",
       "    </tr>\n",
       "  </thead>\n",
       "  <tbody>\n",
       "    <tr>\n",
       "      <th>0</th>\n",
       "      <td>Naive Bayes</td>\n",
       "      <td>83.49</td>\n",
       "      <td>1.07</td>\n",
       "    </tr>\n",
       "    <tr>\n",
       "      <th>1</th>\n",
       "      <td>Linear SVC</td>\n",
       "      <td>93.14</td>\n",
       "      <td>5.42</td>\n",
       "    </tr>\n",
       "    <tr>\n",
       "      <th>2</th>\n",
       "      <td>Random Forest</td>\n",
       "      <td>78.96</td>\n",
       "      <td>9.58</td>\n",
       "    </tr>\n",
       "    <tr>\n",
       "      <th>3</th>\n",
       "      <td>Decision Tree</td>\n",
       "      <td>69.31</td>\n",
       "      <td>8.67</td>\n",
       "    </tr>\n",
       "    <tr>\n",
       "      <th>4</th>\n",
       "      <td>K-Nearest Neighbor</td>\n",
       "      <td>84.02</td>\n",
       "      <td>5.19</td>\n",
       "    </tr>\n",
       "    <tr>\n",
       "      <th>5</th>\n",
       "      <td>Logistics Regression</td>\n",
       "      <td>80.00</td>\n",
       "      <td>15.00</td>\n",
       "    </tr>\n",
       "  </tbody>\n",
       "</table>\n",
       "</div>"
      ],
      "text/plain": [
       "            model_names  accuracy  Time taken:\n",
       "0           Naive Bayes     83.49         1.07\n",
       "1            Linear SVC     93.14         5.42\n",
       "2         Random Forest     78.96         9.58\n",
       "3         Decision Tree     69.31         8.67\n",
       "4    K-Nearest Neighbor     84.02         5.19\n",
       "5  Logistics Regression     80.00        15.00"
      ]
     },
     "execution_count": 65,
     "metadata": {},
     "output_type": "execute_result"
    }
   ],
   "source": [
    "df = pd.DataFrame({\n",
    "                   \"model_names\": ['Naive Bayes', 'Linear SVC', 'Random Forest', 'Decision Tree', 'K-Nearest Neighbor', 'Logistics Regression'],\n",
    "                   \"accuracy\": [nb_predict_acc, lsvc_predict_acc, rf_predict_acc, dt_predict_acc, knn_predict_acc, 80],\n",
    "                   \"Time taken:\":[nb_predict_time, lsvc_predict_time, rf_predict_time, dt_predict_time, knn_predict_time,15]\n",
    "                  })\n",
    "df"
   ]
  },
  {
   "cell_type": "code",
   "execution_count": 63,
   "metadata": {},
   "outputs": [
    {
     "data": {
      "text/plain": [
       "Text(0.5, 1.0, 'Model Accuracy')"
      ]
     },
     "execution_count": 63,
     "metadata": {},
     "output_type": "execute_result"
    },
    {
     "data": {
      "image/png": "[encoded data removed]",
      "text/plain": [
       "<Figure size 504x504 with 1 Axes>"
      ]
     },
     "metadata": {
      "needs_background": "light"
     },
     "output_type": "display_data"
    }
   ],
   "source": [
    "df = pd.DataFrame({\n",
    "                   \"model_names\": ['Naive Bayes', 'Linear SVC', 'Random Forest', 'Decision Tree', 'K-Nearest Neighbor', 'Logistics Regression'],\n",
    "                   \"accuracy\": [nb_predict_acc, lsvc_predict_acc, rf_predict_acc, dt_predict_acc, knn_predict_acc, 80],\n",
    "                   \"Time taken:\":[nb_predict_time, lsvc_predict_time, rf_predict_time, dt_predict_time, knn_predict_time,15]\n",
    "                  })\n",
    "df.set_index(\"model_names\",drop=True,inplace=True)\n",
    "ax = df.plot(figsize = (7,7), kind='bar', color=[\"g\",\"b\"], rot=45)\n",
    "ax.legend([\"Accuracy\", \"Time Taken\"]);\n",
    "\n",
    "for patch in ax.patches:\n",
    "    bl = patch.get_xy()\n",
    "    x = 0.5 * patch.get_width() + bl[0]\n",
    "    # change 0.92 to move the text up and down\n",
    "    y = 0.80 * patch.get_height() + bl[1] \n",
    "    ax.text(x,y,\"%d\" %(patch.get_height()),\n",
    "            ha='center', rotation='vertical', weight = 'bold', color = 'white')\n",
    "\n",
    "plt.xlabel('Accuracy')\n",
    "plt.ylabel('Model Names')\n",
    "plt.title('Model Accuracy')"
   ]
  },
  {
   "cell_type": "code",
   "execution_count": 84,
   "metadata": {},
   "outputs": [
    {
     "data": {
      "image/png": "[encoded data removed]",
      "text/plain": [
       "<Figure size 720x720 with 1 Axes>"
      ]
     },
     "metadata": {},
     "output_type": "display_data"
    }
   ],
   "source": [
    "import seaborn as sns\n",
    "sns.boxplot(x='model_names', y='accuracy', data=df)\n",
    "sns.stripplot(x='model_names', y='accuracy', data=df , size=10, jitter=True, edgecolor=\"gray\", linewidth=2)\n",
    "sns.set(rc={'figure.figsize':(9,9)})"
   ]
  },
  {
   "cell_type": "code",
   "execution_count": 85,
   "metadata": {},
   "outputs": [
    {
     "name": "stdout",
     "output_type": "stream",
     "text": [
      "Linear SVC Prediction Accuracy:  93.14 %\n",
      "                        precision    recall  f1-score   support\n",
      "\n",
      "           alt.atheism       0.97      0.85      0.90       319\n",
      "         comp.graphics       0.90      0.98      0.94       389\n",
      "               sci.med       0.96      0.91      0.93       396\n",
      "soc.religion.christian       0.91      0.97      0.94       398\n",
      "\n",
      "             micro avg       0.93      0.93      0.93      1502\n",
      "             macro avg       0.94      0.93      0.93      1502\n",
      "          weighted avg       0.93      0.93      0.93      1502\n",
      "\n"
     ]
    }
   ],
   "source": [
    "print('Linear SVC Prediction Accuracy: ',lsvc_predict_acc,'%')\n",
    "print(metrics.classification_report(test_20_newsgroups.target, lsvc_predict, target_names = test_20_newsgroups.target_names))"
   ]
  }
 ],
 "metadata": {
  "kernelspec": {
   "display_name": "Python 3",
   "language": "python",
   "name": "python3"
  },
  "language_info": {
   "codemirror_mode": {
    "name": "ipython",
    "version": 3
   },
   "file_extension": ".py",
   "mimetype": "text/x-python",
   "name": "python",
   "nbconvert_exporter": "python",
   "pygments_lexer": "ipython3",
   "version": "3.6.6"
  }
 },
 "nbformat": 4,
 "nbformat_minor": 2
}
